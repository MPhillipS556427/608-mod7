{
 "cells": [
  {
   "cell_type": "code",
   "execution_count": 1,
   "id": "8d298dbc-0699-4602-a67b-789c0b9e83e7",
   "metadata": {},
   "outputs": [],
   "source": [
    "from account import Account"
   ]
  },
  {
   "cell_type": "code",
   "execution_count": 2,
   "id": "967e330a-277f-47f2-9fb5-f3a6f95f4e1d",
   "metadata": {},
   "outputs": [],
   "source": [
    "from decimal import Decimal"
   ]
  },
  {
   "cell_type": "code",
   "execution_count": 3,
   "id": "f15f43a3-35d1-4bb0-a9c5-620b30a28a34",
   "metadata": {},
   "outputs": [],
   "source": [
    "account1 = Account('John Green', Decimal('50.00'))"
   ]
  },
  {
   "cell_type": "code",
   "execution_count": 4,
   "id": "b91f7ef5-c1bf-4eaa-b48e-43153ecf9e11",
   "metadata": {},
   "outputs": [
    {
     "data": {
      "text/plain": [
       "'John Green'"
      ]
     },
     "execution_count": 4,
     "metadata": {},
     "output_type": "execute_result"
    }
   ],
   "source": [
    "account1.name"
   ]
  },
  {
   "cell_type": "code",
   "execution_count": 5,
   "id": "05501b81-8525-4af8-aa95-f82214fb22bf",
   "metadata": {},
   "outputs": [
    {
     "data": {
      "text/plain": [
       "Decimal('50.00')"
      ]
     },
     "execution_count": 5,
     "metadata": {},
     "output_type": "execute_result"
    }
   ],
   "source": [
    "account1.balance"
   ]
  },
  {
   "cell_type": "code",
   "execution_count": 6,
   "id": "28326a21-ea08-401a-9817-93155858bb58",
   "metadata": {},
   "outputs": [
    {
     "data": {
      "text/plain": [
       "Decimal('50.00')"
      ]
     },
     "execution_count": 6,
     "metadata": {},
     "output_type": "execute_result"
    }
   ],
   "source": [
    "account1.balance"
   ]
  },
  {
   "cell_type": "code",
   "execution_count": 7,
   "id": "421b29cc-65ee-4fa5-a6de-5218ae9cfbff",
   "metadata": {},
   "outputs": [],
   "source": [
    "account1.deposit(Decimal('25.53'))"
   ]
  },
  {
   "cell_type": "code",
   "execution_count": 8,
   "id": "9b485b54-c213-4a95-9366-8cbb31eef77f",
   "metadata": {},
   "outputs": [
    {
     "data": {
      "text/plain": [
       "Decimal('75.53')"
      ]
     },
     "execution_count": 8,
     "metadata": {},
     "output_type": "execute_result"
    }
   ],
   "source": [
    "account1.balance"
   ]
  },
  {
   "cell_type": "code",
   "execution_count": 9,
   "id": "9434ab69-e3ef-477c-b487-033fb55c4455",
   "metadata": {},
   "outputs": [
    {
     "name": "stdout",
     "output_type": "stream",
     "text": [
      "10.2.1 and 10.2.2 completed successfully by Malcolm P. :)\n"
     ]
    }
   ],
   "source": [
    "print('10.2.1 and 10.2.2 completed successfully by Malcolm P. :)')"
   ]
  },
  {
   "cell_type": "code",
   "execution_count": 10,
   "id": "a98b6982-832c-412b-ab8a-d32291eef221",
   "metadata": {},
   "outputs": [],
   "source": [
    "account1.balance = Decimal('-1000.00')"
   ]
  },
  {
   "cell_type": "code",
   "execution_count": 11,
   "id": "dc02dc7c-bd1c-4438-b21a-df83d1f9dc95",
   "metadata": {},
   "outputs": [
    {
     "data": {
      "text/plain": [
       "Decimal('-1000.00')"
      ]
     },
     "execution_count": 11,
     "metadata": {},
     "output_type": "execute_result"
    }
   ],
   "source": [
    "account1.balance"
   ]
  },
  {
   "cell_type": "code",
   "execution_count": null,
   "id": "7c1e2579-86e0-4f7f-93ff-4346788b4b07",
   "metadata": {},
   "outputs": [],
   "source": []
  },
  {
   "cell_type": "code",
   "execution_count": 12,
   "id": "16967636-c900-4198-b2d6-3d6b82f4407b",
   "metadata": {},
   "outputs": [],
   "source": [
    "account1 = Account('John Green', Decimal('50.00'))"
   ]
  },
  {
   "cell_type": "code",
   "execution_count": 13,
   "id": "9de771fb-24ca-413c-a7a3-8800e6377357",
   "metadata": {},
   "outputs": [],
   "source": [
    "account1.withdraw(Decimal('20.00'))"
   ]
  },
  {
   "cell_type": "code",
   "execution_count": 14,
   "id": "4cce4a16-a7eb-4973-9ce0-234b8dd4f137",
   "metadata": {},
   "outputs": [
    {
     "data": {
      "text/plain": [
       "Decimal('30.00')"
      ]
     },
     "execution_count": 14,
     "metadata": {},
     "output_type": "execute_result"
    }
   ],
   "source": [
    "account1.balance"
   ]
  },
  {
   "cell_type": "code",
   "execution_count": 22,
   "id": "c5235c98-045e-4867-beb7-fca163a21231",
   "metadata": {},
   "outputs": [
    {
     "ename": "ValueError",
     "evalue": "amount must be <= to balance.",
     "output_type": "error",
     "traceback": [
      "\u001b[0;31m---------------------------------------------------------------------------\u001b[0m",
      "\u001b[0;31mValueError\u001b[0m                                Traceback (most recent call last)",
      "Input \u001b[0;32mIn [22]\u001b[0m, in \u001b[0;36m<cell line: 1>\u001b[0;34m()\u001b[0m\n\u001b[0;32m----> 1\u001b[0m \u001b[43maccount1\u001b[49m\u001b[38;5;241;43m.\u001b[39;49m\u001b[43mwithdraw\u001b[49m\u001b[43m(\u001b[49m\u001b[43mDecimal\u001b[49m\u001b[43m(\u001b[49m\u001b[38;5;124;43m'\u001b[39;49m\u001b[38;5;124;43m100.00\u001b[39;49m\u001b[38;5;124;43m'\u001b[39;49m\u001b[43m)\u001b[49m\u001b[43m)\u001b[49m\n",
      "File \u001b[0;32m~/Desktop/Course 44-608/608-mod7/account.py:31\u001b[0m, in \u001b[0;36mAccount.withdraw\u001b[0;34m(self, amount)\u001b[0m\n\u001b[1;32m     29\u001b[0m \u001b[38;5;66;03m# if amount is greater than balance, raise an exception\u001b[39;00m\n\u001b[1;32m     30\u001b[0m \u001b[38;5;28;01mif\u001b[39;00m amount \u001b[38;5;241m>\u001b[39m \u001b[38;5;28mself\u001b[39m\u001b[38;5;241m.\u001b[39mbalance:\n\u001b[0;32m---> 31\u001b[0m     \u001b[38;5;28;01mraise\u001b[39;00m \u001b[38;5;167;01mValueError\u001b[39;00m(\u001b[38;5;124m'\u001b[39m\u001b[38;5;124mamount must be <= to balance.\u001b[39m\u001b[38;5;124m'\u001b[39m)\n\u001b[1;32m     32\u001b[0m \u001b[38;5;28;01melif\u001b[39;00m amount \u001b[38;5;241m<\u001b[39m Decimal(\u001b[38;5;124m'\u001b[39m\u001b[38;5;124m0.00\u001b[39m\u001b[38;5;124m'\u001b[39m):\n\u001b[1;32m     33\u001b[0m     \u001b[38;5;28;01mraise\u001b[39;00m \u001b[38;5;167;01mValueError\u001b[39;00m(\u001b[38;5;124m'\u001b[39m\u001b[38;5;124mamount must be positive.\u001b[39m\u001b[38;5;124m'\u001b[39m)\n",
      "\u001b[0;31mValueError\u001b[0m: amount must be <= to balance."
     ]
    }
   ],
   "source": [
    "account1.withdraw(Decimal('100.00'))"
   ]
  },
  {
   "cell_type": "code",
   "execution_count": 25,
   "id": "386125aa-f375-4ed4-bcf0-a5a3bb86af8a",
   "metadata": {},
   "outputs": [
    {
     "ename": "ValueError",
     "evalue": "amount must be positive.",
     "output_type": "error",
     "traceback": [
      "\u001b[0;31m---------------------------------------------------------------------------\u001b[0m",
      "\u001b[0;31mValueError\u001b[0m                                Traceback (most recent call last)",
      "Input \u001b[0;32mIn [25]\u001b[0m, in \u001b[0;36m<cell line: 1>\u001b[0;34m()\u001b[0m\n\u001b[0;32m----> 1\u001b[0m \u001b[43maccount1\u001b[49m\u001b[38;5;241;43m.\u001b[39;49m\u001b[43mwithdraw\u001b[49m\u001b[43m(\u001b[49m\u001b[43mDecimal\u001b[49m\u001b[43m(\u001b[49m\u001b[38;5;124;43m'\u001b[39;49m\u001b[38;5;124;43m-10.00\u001b[39;49m\u001b[38;5;124;43m'\u001b[39;49m\u001b[43m)\u001b[49m\u001b[43m)\u001b[49m\n",
      "File \u001b[0;32m~/Desktop/Course 44-608/608-mod7/account.py:33\u001b[0m, in \u001b[0;36mAccount.withdraw\u001b[0;34m(self, amount)\u001b[0m\n\u001b[1;32m     31\u001b[0m     \u001b[38;5;28;01mraise\u001b[39;00m \u001b[38;5;167;01mValueError\u001b[39;00m(\u001b[38;5;124m'\u001b[39m\u001b[38;5;124mamount must be <= to balance.\u001b[39m\u001b[38;5;124m'\u001b[39m)\n\u001b[1;32m     32\u001b[0m \u001b[38;5;28;01melif\u001b[39;00m amount \u001b[38;5;241m<\u001b[39m Decimal(\u001b[38;5;124m'\u001b[39m\u001b[38;5;124m0.00\u001b[39m\u001b[38;5;124m'\u001b[39m):\n\u001b[0;32m---> 33\u001b[0m     \u001b[38;5;28;01mraise\u001b[39;00m \u001b[38;5;167;01mValueError\u001b[39;00m(\u001b[38;5;124m'\u001b[39m\u001b[38;5;124mamount must be positive.\u001b[39m\u001b[38;5;124m'\u001b[39m)\n\u001b[1;32m     35\u001b[0m \u001b[38;5;28mself\u001b[39m\u001b[38;5;241m.\u001b[39mbalance \u001b[38;5;241m-\u001b[39m\u001b[38;5;241m=\u001b[39m amount\n",
      "\u001b[0;31mValueError\u001b[0m: amount must be positive."
     ]
    }
   ],
   "source": [
    "account1.withdraw(Decimal('-10.00'))"
   ]
  },
  {
   "cell_type": "code",
   "execution_count": 26,
   "id": "748a22ef-ebb1-4b92-81a1-80f8482f078d",
   "metadata": {},
   "outputs": [
    {
     "name": "stdout",
     "output_type": "stream",
     "text": [
      "10.2 self check and 10.3 completed by Malcolm P\n"
     ]
    }
   ],
   "source": [
    "print('10.2 self check and 10.3 completed by Malcolm P')"
   ]
  },
  {
   "cell_type": "code",
   "execution_count": 1,
   "id": "32dd2fa3-8bde-4d3f-a386-6acefdbbf5bf",
   "metadata": {},
   "outputs": [],
   "source": [
    "from timewithproperties import Time"
   ]
  },
  {
   "cell_type": "code",
   "execution_count": 2,
   "id": "1cacfb8e-4961-41fd-95ff-32aa1a302268",
   "metadata": {},
   "outputs": [],
   "source": [
    "wake_up = Time(hour=6, minute=30)"
   ]
  },
  {
   "cell_type": "code",
   "execution_count": 3,
   "id": "e5288d78-2c23-4259-a7fd-ac9911080f4a",
   "metadata": {},
   "outputs": [
    {
     "data": {
      "text/plain": [
       "Time (hour = 6, minute = 30, second = 0)"
      ]
     },
     "execution_count": 3,
     "metadata": {},
     "output_type": "execute_result"
    }
   ],
   "source": [
    "wake_up"
   ]
  },
  {
   "cell_type": "code",
   "execution_count": 4,
   "id": "b6d06e27-07f8-4a8a-bd2e-2a82c564d561",
   "metadata": {},
   "outputs": [
    {
     "ename": "TypeError",
     "evalue": "'int' object is not callable",
     "output_type": "error",
     "traceback": [
      "\u001b[0;31m---------------------------------------------------------------------------\u001b[0m",
      "\u001b[0;31mTypeError\u001b[0m                                 Traceback (most recent call last)",
      "Input \u001b[0;32mIn [4]\u001b[0m, in \u001b[0;36m<cell line: 1>\u001b[0;34m()\u001b[0m\n\u001b[0;32m----> 1\u001b[0m \u001b[38;5;28;43mprint\u001b[39;49m\u001b[43m(\u001b[49m\u001b[43mwake_up\u001b[49m\u001b[43m)\u001b[49m\n",
      "File \u001b[0;32m~/Desktop/Course 44-608/608-mod7/timewithproperties.py:65\u001b[0m, in \u001b[0;36mTime.__str__\u001b[0;34m(self)\u001b[0m\n\u001b[1;32m     63\u001b[0m \u001b[38;5;28;01mdef\u001b[39;00m \u001b[38;5;21m__str__\u001b[39m(\u001b[38;5;28mself\u001b[39m):\n\u001b[1;32m     64\u001b[0m     \u001b[38;5;124;03m\"\"\"Print Time in 12-hour clock format.\"\"\"\u001b[39;00m\n\u001b[0;32m---> 65\u001b[0m     \u001b[38;5;28;01mreturn\u001b[39;00m ((\u001b[38;5;124m'\u001b[39m\u001b[38;5;124m12\u001b[39m\u001b[38;5;124m'\u001b[39m \u001b[38;5;28;01mif\u001b[39;00m \u001b[38;5;28;43mself\u001b[39;49m\u001b[38;5;241;43m.\u001b[39;49m\u001b[43mhour\u001b[49m\u001b[43m \u001b[49m\u001b[43m(\u001b[49m\u001b[38;5;241;43m0\u001b[39;49m\u001b[43m,\u001b[49m\u001b[43m \u001b[49m\u001b[38;5;241;43m12\u001b[39;49m\u001b[43m)\u001b[49m \u001b[38;5;28;01melse\u001b[39;00m \u001b[38;5;28mstr\u001b[39m(\u001b[38;5;28mself\u001b[39m\u001b[38;5;241m.\u001b[39mhour \u001b[38;5;241m%\u001b[39m \u001b[38;5;241m12\u001b[39m)) \u001b[38;5;241m+\u001b[39m\n\u001b[1;32m     66\u001b[0m             \u001b[38;5;124mf\u001b[39m\u001b[38;5;124m'\u001b[39m\u001b[38;5;124m:\u001b[39m\u001b[38;5;132;01m{\u001b[39;00m\u001b[38;5;28mself\u001b[39m\u001b[38;5;241m.\u001b[39mminute\u001b[38;5;132;01m:\u001b[39;00m\u001b[38;5;124m0>2\u001b[39m\u001b[38;5;132;01m}\u001b[39;00m\u001b[38;5;124m: \u001b[39m\u001b[38;5;132;01m{\u001b[39;00m\u001b[38;5;28mself\u001b[39m\u001b[38;5;241m.\u001b[39msecond\u001b[38;5;132;01m:\u001b[39;00m\u001b[38;5;124m0>2\u001b[39m\u001b[38;5;132;01m}\u001b[39;00m\u001b[38;5;124m'\u001b[39m \u001b[38;5;241m+\u001b[39m\n\u001b[1;32m     67\u001b[0m             (\u001b[38;5;124m'\u001b[39m\u001b[38;5;124m AM\u001b[39m\u001b[38;5;124m'\u001b[39m \u001b[38;5;28;01mif\u001b[39;00m \u001b[38;5;28mself\u001b[39m\u001b[38;5;241m.\u001b[39mhour \u001b[38;5;241m<\u001b[39m \u001b[38;5;241m12\u001b[39m \u001b[38;5;28;01melse\u001b[39;00m \u001b[38;5;124m'\u001b[39m\u001b[38;5;124mPM\u001b[39m\u001b[38;5;124m'\u001b[39m))\n",
      "\u001b[0;31mTypeError\u001b[0m: 'int' object is not callable"
     ]
    }
   ],
   "source": [
    "print(wake_up)"
   ]
  },
  {
   "cell_type": "code",
   "execution_count": 5,
   "id": "09133bcd-8fd2-4959-87ee-e4414dd49510",
   "metadata": {},
   "outputs": [
    {
     "data": {
      "text/plain": [
       "6"
      ]
     },
     "execution_count": 5,
     "metadata": {},
     "output_type": "execute_result"
    }
   ],
   "source": [
    "wake_up.hour"
   ]
  },
  {
   "cell_type": "code",
   "execution_count": 6,
   "id": "531e0da5-ed7a-4efc-8845-42a5adbbc4cb",
   "metadata": {},
   "outputs": [],
   "source": [
    "wake_up.set_time(hour = 7, minute=45)"
   ]
  },
  {
   "cell_type": "code",
   "execution_count": 7,
   "id": "f453f4cb-083b-4dc3-a019-c2f0afd55442",
   "metadata": {},
   "outputs": [
    {
     "data": {
      "text/plain": [
       "Time (hour = 7, minute = 45, second = 0)"
      ]
     },
     "execution_count": 7,
     "metadata": {},
     "output_type": "execute_result"
    }
   ],
   "source": [
    "wake_up"
   ]
  },
  {
   "cell_type": "code",
   "execution_count": 8,
   "id": "a8be19a6-c3ff-4be6-ae90-7b2e104330b7",
   "metadata": {},
   "outputs": [],
   "source": [
    "wake_up.hour = 6"
   ]
  },
  {
   "cell_type": "code",
   "execution_count": 9,
   "id": "b4c57e1a-e2b6-4636-be40-26354ecd26c1",
   "metadata": {},
   "outputs": [
    {
     "data": {
      "text/plain": [
       "Time (hour = 6, minute = 45, second = 0)"
      ]
     },
     "execution_count": 9,
     "metadata": {},
     "output_type": "execute_result"
    }
   ],
   "source": [
    "wake_up"
   ]
  },
  {
   "cell_type": "code",
   "execution_count": 10,
   "id": "33004fd7-15ce-47fd-8277-8bcb1accd182",
   "metadata": {},
   "outputs": [],
   "source": [
    "t = Time()"
   ]
  },
  {
   "cell_type": "code",
   "execution_count": 11,
   "id": "444c2a09-557e-4b72-8979-81be2a509491",
   "metadata": {},
   "outputs": [
    {
     "data": {
      "text/plain": [
       "Time (hour = 0, minute = 0, second = 0)"
      ]
     },
     "execution_count": 11,
     "metadata": {},
     "output_type": "execute_result"
    }
   ],
   "source": [
    "t"
   ]
  },
  {
   "cell_type": "code",
   "execution_count": 12,
   "id": "151a225d-e773-4050-8367-7b4465d10b38",
   "metadata": {},
   "outputs": [],
   "source": [
    "t.time = (12, 30, 45)"
   ]
  },
  {
   "cell_type": "code",
   "execution_count": 13,
   "id": "38ca0172-47bc-4502-8a6c-efdb36aeeef8",
   "metadata": {},
   "outputs": [
    {
     "data": {
      "text/plain": [
       "Time (hour = 12, minute = 30, second = 45)"
      ]
     },
     "execution_count": 13,
     "metadata": {},
     "output_type": "execute_result"
    }
   ],
   "source": [
    "t"
   ]
  },
  {
   "cell_type": "code",
   "execution_count": 14,
   "id": "cff4ee07-63c4-473b-91ac-40b3134f0843",
   "metadata": {},
   "outputs": [
    {
     "data": {
      "text/plain": [
       "(12, 30, 45)"
      ]
     },
     "execution_count": 14,
     "metadata": {},
     "output_type": "execute_result"
    }
   ],
   "source": [
    "t.time"
   ]
  },
  {
   "cell_type": "code",
   "execution_count": 15,
   "id": "8fe76292-8f36-4443-8256-8ea3d7638dba",
   "metadata": {},
   "outputs": [
    {
     "data": {
      "text/plain": [
       "Time (hour = 12, minute = 30, second = 45)"
      ]
     },
     "execution_count": 15,
     "metadata": {},
     "output_type": "execute_result"
    }
   ],
   "source": [
    "t"
   ]
  },
  {
   "cell_type": "code",
   "execution_count": 16,
   "id": "9ce034f0-8e16-4ba8-9a61-020a0a397a2c",
   "metadata": {},
   "outputs": [
    {
     "data": {
      "text/plain": [
       "(12, 30, 45)"
      ]
     },
     "execution_count": 16,
     "metadata": {},
     "output_type": "execute_result"
    }
   ],
   "source": [
    "t.time"
   ]
  },
  {
   "cell_type": "code",
   "execution_count": 17,
   "id": "55d3ef1e-9df9-4767-b146-0af08bb4029d",
   "metadata": {},
   "outputs": [],
   "source": [
    "wake_up = Time(hour=7, minute=43, second=30)"
   ]
  },
  {
   "cell_type": "code",
   "execution_count": 18,
   "id": "cbade669-e092-4215-bcd5-f71b005fa82f",
   "metadata": {},
   "outputs": [
    {
     "data": {
      "text/plain": [
       "7"
      ]
     },
     "execution_count": 18,
     "metadata": {},
     "output_type": "execute_result"
    }
   ],
   "source": [
    "wake_up._hour"
   ]
  },
  {
   "cell_type": "code",
   "execution_count": 19,
   "id": "af0d367b-4487-4a63-8dc2-46c38a291ffd",
   "metadata": {},
   "outputs": [],
   "source": [
    "wake_up._hour = 100"
   ]
  },
  {
   "cell_type": "code",
   "execution_count": 20,
   "id": "d88edbb8-210c-44dd-aadc-5e35e1c25d30",
   "metadata": {},
   "outputs": [
    {
     "data": {
      "text/plain": [
       "Time (hour = 100, minute = 43, second = 30)"
      ]
     },
     "execution_count": 20,
     "metadata": {},
     "output_type": "execute_result"
    }
   ],
   "source": [
    "wake_up"
   ]
  },
  {
   "cell_type": "code",
   "execution_count": 23,
   "id": "42bdfaf8-f593-4734-ad58-ed50b7f3e58b",
   "metadata": {},
   "outputs": [
    {
     "name": "stdout",
     "output_type": "stream",
     "text": [
      "10.4 completed successfully by malcolm :)\n"
     ]
    }
   ],
   "source": [
    "print('10.4 completed successfully by malcolm :)')"
   ]
  },
  {
   "cell_type": "code",
   "execution_count": 24,
   "id": "d54a9b5b-fc9e-4ec2-9329-e06bf4ba5e23",
   "metadata": {},
   "outputs": [],
   "source": [
    "from private import PrivateClass"
   ]
  },
  {
   "cell_type": "code",
   "execution_count": 25,
   "id": "8a21b6b2-0c05-4f2a-8693-5713d53cb640",
   "metadata": {},
   "outputs": [],
   "source": [
    "my_object = PrivateClass()"
   ]
  },
  {
   "cell_type": "code",
   "execution_count": 26,
   "id": "ea992b8f-a4b6-4343-b943-4258b57fcf40",
   "metadata": {},
   "outputs": [
    {
     "data": {
      "text/plain": [
       "'public'"
      ]
     },
     "execution_count": 26,
     "metadata": {},
     "output_type": "execute_result"
    }
   ],
   "source": [
    "my_object.public_data"
   ]
  },
  {
   "cell_type": "code",
   "execution_count": 27,
   "id": "c5b1ceb4-984d-4c1d-b398-2032d777e2c4",
   "metadata": {},
   "outputs": [
    {
     "ename": "AttributeError",
     "evalue": "'PrivateClass' object has no attribute '__private_data'",
     "output_type": "error",
     "traceback": [
      "\u001b[0;31m---------------------------------------------------------------------------\u001b[0m",
      "\u001b[0;31mAttributeError\u001b[0m                            Traceback (most recent call last)",
      "Input \u001b[0;32mIn [27]\u001b[0m, in \u001b[0;36m<cell line: 1>\u001b[0;34m()\u001b[0m\n\u001b[0;32m----> 1\u001b[0m \u001b[43mmy_object\u001b[49m\u001b[38;5;241;43m.\u001b[39;49m\u001b[43m__private_data\u001b[49m\n",
      "\u001b[0;31mAttributeError\u001b[0m: 'PrivateClass' object has no attribute '__private_data'"
     ]
    }
   ],
   "source": [
    "my_object.__private_data"
   ]
  },
  {
   "cell_type": "code",
   "execution_count": 28,
   "id": "19b2806a-b758-4d84-8c1e-dc2f696924f5",
   "metadata": {},
   "outputs": [
    {
     "data": {
      "text/plain": [
       "'private'"
      ]
     },
     "execution_count": 28,
     "metadata": {},
     "output_type": "execute_result"
    }
   ],
   "source": [
    "my_object._PrivateClass__private_data"
   ]
  },
  {
   "cell_type": "code",
   "execution_count": 29,
   "id": "5bfd7c32-7d35-4aa0-9b08-59b1137ccc46",
   "metadata": {},
   "outputs": [],
   "source": [
    "my_object._PrivateClass__private_data = 'modified'"
   ]
  },
  {
   "cell_type": "code",
   "execution_count": 30,
   "id": "44002f47-1aa2-45cf-ab6c-e776e1d1a8c6",
   "metadata": {},
   "outputs": [
    {
     "data": {
      "text/plain": [
       "'modified'"
      ]
     },
     "execution_count": 30,
     "metadata": {},
     "output_type": "execute_result"
    }
   ],
   "source": [
    "my_object._PrivateClass__private_data"
   ]
  },
  {
   "cell_type": "code",
   "execution_count": 31,
   "id": "3f699508-41c2-40fd-8a32-ba0447fe47e5",
   "metadata": {},
   "outputs": [
    {
     "name": "stdout",
     "output_type": "stream",
     "text": [
      "10.5 completed successfuly by Malcolm P\n"
     ]
    }
   ],
   "source": [
    "print('10.5 completed successfuly by Malcolm P')"
   ]
  },
  {
   "cell_type": "code",
   "execution_count": 1,
   "id": "7673eead-0b96-47c4-8b13-6f104e40eb96",
   "metadata": {},
   "outputs": [],
   "source": [
    "from deck import DeckOfCards"
   ]
  },
  {
   "cell_type": "code",
   "execution_count": 2,
   "id": "5f8fde4d-abaf-4bab-99a8-ea2fe806e9b6",
   "metadata": {},
   "outputs": [],
   "source": [
    "deck_of_cards = DeckOfCards()"
   ]
  },
  {
   "cell_type": "code",
   "execution_count": 3,
   "id": "9ff9fc64-0813-4b25-a17e-fef9b35c0f04",
   "metadata": {},
   "outputs": [
    {
     "name": "stdout",
     "output_type": "stream",
     "text": [
      " Ace of Hearts      2 of Hearts        3 of Hearts        4 of Hearts        \n",
      "5 of Hearts        6 of Hearts        7 of Hearts        8 of Hearts        \n",
      "9 of Hearts        10 of Hearts       Jack of Hearts     Queen of Hearts    \n",
      "King of Hearts     Ace of Diamonds    2 of Diamonds      3 of Diamonds      \n",
      "4 of Diamonds      5 of Diamonds      6 of Diamonds      7 of Diamonds      \n",
      "8 of Diamonds      9 of Diamonds      10 of Diamonds     Jack of Diamonds   \n",
      "Queen of Diamonds  King of Diamonds   Ace of Clubs       2 of Clubs         \n",
      "3 of Clubs         4 of Clubs         5 of Clubs         6 of Clubs         \n",
      "7 of Clubs         8 of Clubs         9 of Clubs         10 of Clubs        \n",
      "Jack of Clubs      Queen of Clubs     King of Clubs      Ace of Spades      \n",
      "2 of Spades        3 of Spades        4 of Spades        5 of Spades        \n",
      "6 of Spades        7 of Spades        8 of Spades        9 of Spades        \n",
      "10 of Spades       Jack of Spades     Queen of Spades    King of Spades     \n",
      "\n"
     ]
    }
   ],
   "source": [
    "print(deck_of_cards)"
   ]
  },
  {
   "cell_type": "code",
   "execution_count": 4,
   "id": "eb39c1f6-f1cd-44fc-aba1-e5d4c00a696f",
   "metadata": {},
   "outputs": [],
   "source": [
    "deck_of_cards.shuffle()"
   ]
  },
  {
   "cell_type": "code",
   "execution_count": 5,
   "id": "972b873b-8692-44b0-9aa2-2aa616f7690c",
   "metadata": {},
   "outputs": [
    {
     "name": "stdout",
     "output_type": "stream",
     "text": [
      " King of Clubs      7 of Diamonds      9 of Spades        5 of Diamonds      \n",
      "Ace of Clubs       King of Diamonds   2 of Spades        7 of Clubs         \n",
      "2 of Hearts        10 of Diamonds     Jack of Spades     Jack of Diamonds   \n",
      "4 of Diamonds      King of Hearts     6 of Diamonds      5 of Hearts        \n",
      "8 of Hearts        3 of Hearts        2 of Diamonds      3 of Spades        \n",
      "7 of Spades        Jack of Clubs      3 of Diamonds      7 of Hearts        \n",
      "6 of Clubs         Ace of Hearts      6 of Hearts        Ace of Diamonds    \n",
      "10 of Clubs        Queen of Spades    4 of Hearts        9 of Hearts        \n",
      "Queen of Clubs     6 of Spades        Ace of Spades      10 of Hearts       \n",
      "2 of Clubs         9 of Clubs         4 of Clubs         8 of Diamonds      \n",
      "Queen of Diamonds  8 of Clubs         10 of Spades       5 of Clubs         \n",
      "King of Spades     4 of Spades        3 of Clubs         9 of Diamonds      \n",
      "8 of Spades        Queen of Hearts    5 of Spades        Jack of Hearts     \n",
      "\n"
     ]
    }
   ],
   "source": [
    "print(deck_of_cards)"
   ]
  },
  {
   "cell_type": "code",
   "execution_count": 6,
   "id": "bde5fd55-1f9a-4ced-8a02-0e7831983f96",
   "metadata": {},
   "outputs": [
    {
     "data": {
      "text/plain": [
       "Card(face='King', suit='Clubs')"
      ]
     },
     "execution_count": 6,
     "metadata": {},
     "output_type": "execute_result"
    }
   ],
   "source": [
    "deck_of_cards.deal_card()"
   ]
  },
  {
   "cell_type": "code",
   "execution_count": 7,
   "id": "5ba2dd09-4454-4c40-8845-ffd4165debe0",
   "metadata": {},
   "outputs": [],
   "source": [
    "card = deck_of_cards.deal_card()"
   ]
  },
  {
   "cell_type": "code",
   "execution_count": 8,
   "id": "b3547287-6544-4b2e-b470-1f7d3b60b916",
   "metadata": {},
   "outputs": [
    {
     "data": {
      "text/plain": [
       "'7 of Diamonds'"
      ]
     },
     "execution_count": 8,
     "metadata": {},
     "output_type": "execute_result"
    }
   ],
   "source": [
    "str(card)"
   ]
  },
  {
   "cell_type": "code",
   "execution_count": 9,
   "id": "aad84fae-dd6a-4262-9a71-a35eb0a2c882",
   "metadata": {},
   "outputs": [
    {
     "data": {
      "text/plain": [
       "'7_of_Diamonds.png'"
      ]
     },
     "execution_count": 9,
     "metadata": {},
     "output_type": "execute_result"
    }
   ],
   "source": [
    "card.image_name"
   ]
  },
  {
   "cell_type": "code",
   "execution_count": null,
   "id": "9e3eb6c4-e45a-43b5-9f7d-9d52afcd1813",
   "metadata": {},
   "outputs": [],
   "source": []
  },
  {
   "cell_type": "code",
   "execution_count": 10,
   "id": "44af862f-3c5d-4a4f-99b1-5afd96949377",
   "metadata": {},
   "outputs": [
    {
     "name": "stdout",
     "output_type": "stream",
     "text": [
      "Using matplotlib backend: MacOSX\n"
     ]
    }
   ],
   "source": [
    "%matplotlib"
   ]
  },
  {
   "cell_type": "code",
   "execution_count": 13,
   "id": "d58501e0-23cf-4342-9c87-93d1c481406c",
   "metadata": {},
   "outputs": [],
   "source": [
    "from pathlib import Path"
   ]
  },
  {
   "cell_type": "code",
   "execution_count": 14,
   "id": "97d680f0-28c2-4714-ad19-00fa03889104",
   "metadata": {},
   "outputs": [],
   "source": [
    "path = Path('.').joinpath('card_images')"
   ]
  },
  {
   "cell_type": "code",
   "execution_count": 15,
   "id": "53599343-723a-4832-b0d2-ab2744f04b01",
   "metadata": {},
   "outputs": [],
   "source": [
    "import matplotlib.pyplot as plt"
   ]
  },
  {
   "cell_type": "code",
   "execution_count": 16,
   "id": "ae324bde-58d5-4a21-91a7-d9dcd4b1d0e0",
   "metadata": {},
   "outputs": [],
   "source": [
    "import matplotlib.image as mpimg"
   ]
  },
  {
   "cell_type": "code",
   "execution_count": 17,
   "id": "310ea02f-4387-4623-8539-a4f7815edf31",
   "metadata": {},
   "outputs": [],
   "source": [
    "figure, axes_list = plt.subplots(nrows=4, ncols=13)"
   ]
  },
  {
   "cell_type": "code",
   "execution_count": 18,
   "id": "6439b6ce-fd7c-48af-96a7-fb0d6523f81e",
   "metadata": {},
   "outputs": [
    {
     "ename": "FileNotFoundError",
     "evalue": "[Errno 2] No such file or directory: '/Users/malcolmphillip/Desktop/Course 44-608/608-mod7/card_images/9_of_Spades.png'",
     "output_type": "error",
     "traceback": [
      "\u001b[0;31m---------------------------------------------------------------------------\u001b[0m",
      "\u001b[0;31mFileNotFoundError\u001b[0m                         Traceback (most recent call last)",
      "Input \u001b[0;32mIn [18]\u001b[0m, in \u001b[0;36m<cell line: 1>\u001b[0;34m()\u001b[0m\n\u001b[1;32m      3\u001b[0m axes\u001b[38;5;241m.\u001b[39mget_yaxis()\u001b[38;5;241m.\u001b[39mset_visible(\u001b[38;5;28;01mFalse\u001b[39;00m)\n\u001b[1;32m      4\u001b[0m image_name \u001b[38;5;241m=\u001b[39m deck_of_cards\u001b[38;5;241m.\u001b[39mdeal_card()\u001b[38;5;241m.\u001b[39mimage_name\n\u001b[0;32m----> 5\u001b[0m img \u001b[38;5;241m=\u001b[39m \u001b[43mmpimg\u001b[49m\u001b[38;5;241;43m.\u001b[39;49m\u001b[43mimread\u001b[49m\u001b[43m(\u001b[49m\u001b[38;5;28;43mstr\u001b[39;49m\u001b[43m(\u001b[49m\u001b[43mpath\u001b[49m\u001b[38;5;241;43m.\u001b[39;49m\u001b[43mjoinpath\u001b[49m\u001b[43m(\u001b[49m\u001b[43mimage_name\u001b[49m\u001b[43m)\u001b[49m\u001b[38;5;241;43m.\u001b[39;49m\u001b[43mresolve\u001b[49m\u001b[43m(\u001b[49m\u001b[43m)\u001b[49m\u001b[43m)\u001b[49m\u001b[43m)\u001b[49m\n\u001b[1;32m      6\u001b[0m axes\u001b[38;5;241m.\u001b[39mimshow(img)\n",
      "File \u001b[0;32m~/opt/miniconda3/lib/python3.9/site-packages/matplotlib/image.py:1501\u001b[0m, in \u001b[0;36mimread\u001b[0;34m(fname, format)\u001b[0m\n\u001b[1;32m   1499\u001b[0m                 response \u001b[38;5;241m=\u001b[39m io\u001b[38;5;241m.\u001b[39mBytesIO(response\u001b[38;5;241m.\u001b[39mread())\n\u001b[1;32m   1500\u001b[0m             \u001b[38;5;28;01mreturn\u001b[39;00m imread(response, \u001b[38;5;28mformat\u001b[39m\u001b[38;5;241m=\u001b[39mext)\n\u001b[0;32m-> 1501\u001b[0m \u001b[38;5;28;01mwith\u001b[39;00m \u001b[43mimg_open\u001b[49m\u001b[43m(\u001b[49m\u001b[43mfname\u001b[49m\u001b[43m)\u001b[49m \u001b[38;5;28;01mas\u001b[39;00m image:\n\u001b[1;32m   1502\u001b[0m     \u001b[38;5;28;01mreturn\u001b[39;00m (_pil_png_to_float_array(image)\n\u001b[1;32m   1503\u001b[0m             \u001b[38;5;28;01mif\u001b[39;00m \u001b[38;5;28misinstance\u001b[39m(image, PIL\u001b[38;5;241m.\u001b[39mPngImagePlugin\u001b[38;5;241m.\u001b[39mPngImageFile) \u001b[38;5;28;01melse\u001b[39;00m\n\u001b[1;32m   1504\u001b[0m             pil_to_array(image))\n",
      "File \u001b[0;32m~/opt/miniconda3/lib/python3.9/site-packages/PIL/ImageFile.py:109\u001b[0m, in \u001b[0;36mImageFile.__init__\u001b[0;34m(self, fp, filename)\u001b[0m\n\u001b[1;32m    105\u001b[0m \u001b[38;5;28mself\u001b[39m\u001b[38;5;241m.\u001b[39mdecodermaxblock \u001b[38;5;241m=\u001b[39m MAXBLOCK\n\u001b[1;32m    107\u001b[0m \u001b[38;5;28;01mif\u001b[39;00m isPath(fp):\n\u001b[1;32m    108\u001b[0m     \u001b[38;5;66;03m# filename\u001b[39;00m\n\u001b[0;32m--> 109\u001b[0m     \u001b[38;5;28mself\u001b[39m\u001b[38;5;241m.\u001b[39mfp \u001b[38;5;241m=\u001b[39m \u001b[38;5;28;43mopen\u001b[39;49m\u001b[43m(\u001b[49m\u001b[43mfp\u001b[49m\u001b[43m,\u001b[49m\u001b[43m \u001b[49m\u001b[38;5;124;43m\"\u001b[39;49m\u001b[38;5;124;43mrb\u001b[39;49m\u001b[38;5;124;43m\"\u001b[39;49m\u001b[43m)\u001b[49m\n\u001b[1;32m    110\u001b[0m     \u001b[38;5;28mself\u001b[39m\u001b[38;5;241m.\u001b[39mfilename \u001b[38;5;241m=\u001b[39m fp\n\u001b[1;32m    111\u001b[0m     \u001b[38;5;28mself\u001b[39m\u001b[38;5;241m.\u001b[39m_exclusive_fp \u001b[38;5;241m=\u001b[39m \u001b[38;5;28;01mTrue\u001b[39;00m\n",
      "\u001b[0;31mFileNotFoundError\u001b[0m: [Errno 2] No such file or directory: '/Users/malcolmphillip/Desktop/Course 44-608/608-mod7/card_images/9_of_Spades.png'"
     ]
    }
   ],
   "source": [
    "for axes in axes_list.ravel():\n",
    "    axes.get_xaxis().set_visible(False)\n",
    "    axes.get_yaxis().set_visible(False)\n",
    "    image_name = deck_of_cards.deal_card().image_name\n",
    "    img = mpimg.imread(str(path.joinpath(image_name).resolve()))\n",
    "    axes.imshow(img)"
   ]
  },
  {
   "cell_type": "code",
   "execution_count": null,
   "id": "4a25aa28-b894-4b67-bd9a-faa50ab85c46",
   "metadata": {},
   "outputs": [],
   "source": [
    "figure.tight_layout()"
   ]
  },
  {
   "cell_type": "code",
   "execution_count": 19,
   "id": "9bf2388a-fad6-4ffc-a241-be605b4baad4",
   "metadata": {},
   "outputs": [],
   "source": [
    "deck_of_cards.shuffle()"
   ]
  },
  {
   "cell_type": "code",
   "execution_count": 20,
   "id": "9fe16d44-6c42-48a1-ac7c-a795cae2ba04",
   "metadata": {},
   "outputs": [
    {
     "ename": "FileNotFoundError",
     "evalue": "[Errno 2] No such file or directory: '/Users/malcolmphillip/Desktop/Course 44-608/608-mod7/card_images/8_of_Spades.png'",
     "output_type": "error",
     "traceback": [
      "\u001b[0;31m---------------------------------------------------------------------------\u001b[0m",
      "\u001b[0;31mFileNotFoundError\u001b[0m                         Traceback (most recent call last)",
      "Input \u001b[0;32mIn [20]\u001b[0m, in \u001b[0;36m<cell line: 1>\u001b[0;34m()\u001b[0m\n\u001b[1;32m      3\u001b[0m axes\u001b[38;5;241m.\u001b[39mget_yaxis()\u001b[38;5;241m.\u001b[39mset_visible(\u001b[38;5;28;01mFalse\u001b[39;00m)\n\u001b[1;32m      4\u001b[0m image_name \u001b[38;5;241m=\u001b[39m deck_of_cards\u001b[38;5;241m.\u001b[39mdeal_card()\u001b[38;5;241m.\u001b[39mimage_name\n\u001b[0;32m----> 5\u001b[0m img \u001b[38;5;241m=\u001b[39m \u001b[43mmpimg\u001b[49m\u001b[38;5;241;43m.\u001b[39;49m\u001b[43mimread\u001b[49m\u001b[43m(\u001b[49m\u001b[38;5;28;43mstr\u001b[39;49m\u001b[43m(\u001b[49m\u001b[43mpath\u001b[49m\u001b[38;5;241;43m.\u001b[39;49m\u001b[43mjoinpath\u001b[49m\u001b[43m(\u001b[49m\u001b[43mimage_name\u001b[49m\u001b[43m)\u001b[49m\u001b[38;5;241;43m.\u001b[39;49m\u001b[43mresolve\u001b[49m\u001b[43m(\u001b[49m\u001b[43m)\u001b[49m\u001b[43m)\u001b[49m\u001b[43m)\u001b[49m\n\u001b[1;32m      6\u001b[0m axes\u001b[38;5;241m.\u001b[39mimshow(img)\n",
      "File \u001b[0;32m~/opt/miniconda3/lib/python3.9/site-packages/matplotlib/image.py:1501\u001b[0m, in \u001b[0;36mimread\u001b[0;34m(fname, format)\u001b[0m\n\u001b[1;32m   1499\u001b[0m                 response \u001b[38;5;241m=\u001b[39m io\u001b[38;5;241m.\u001b[39mBytesIO(response\u001b[38;5;241m.\u001b[39mread())\n\u001b[1;32m   1500\u001b[0m             \u001b[38;5;28;01mreturn\u001b[39;00m imread(response, \u001b[38;5;28mformat\u001b[39m\u001b[38;5;241m=\u001b[39mext)\n\u001b[0;32m-> 1501\u001b[0m \u001b[38;5;28;01mwith\u001b[39;00m \u001b[43mimg_open\u001b[49m\u001b[43m(\u001b[49m\u001b[43mfname\u001b[49m\u001b[43m)\u001b[49m \u001b[38;5;28;01mas\u001b[39;00m image:\n\u001b[1;32m   1502\u001b[0m     \u001b[38;5;28;01mreturn\u001b[39;00m (_pil_png_to_float_array(image)\n\u001b[1;32m   1503\u001b[0m             \u001b[38;5;28;01mif\u001b[39;00m \u001b[38;5;28misinstance\u001b[39m(image, PIL\u001b[38;5;241m.\u001b[39mPngImagePlugin\u001b[38;5;241m.\u001b[39mPngImageFile) \u001b[38;5;28;01melse\u001b[39;00m\n\u001b[1;32m   1504\u001b[0m             pil_to_array(image))\n",
      "File \u001b[0;32m~/opt/miniconda3/lib/python3.9/site-packages/PIL/ImageFile.py:109\u001b[0m, in \u001b[0;36mImageFile.__init__\u001b[0;34m(self, fp, filename)\u001b[0m\n\u001b[1;32m    105\u001b[0m \u001b[38;5;28mself\u001b[39m\u001b[38;5;241m.\u001b[39mdecodermaxblock \u001b[38;5;241m=\u001b[39m MAXBLOCK\n\u001b[1;32m    107\u001b[0m \u001b[38;5;28;01mif\u001b[39;00m isPath(fp):\n\u001b[1;32m    108\u001b[0m     \u001b[38;5;66;03m# filename\u001b[39;00m\n\u001b[0;32m--> 109\u001b[0m     \u001b[38;5;28mself\u001b[39m\u001b[38;5;241m.\u001b[39mfp \u001b[38;5;241m=\u001b[39m \u001b[38;5;28;43mopen\u001b[39;49m\u001b[43m(\u001b[49m\u001b[43mfp\u001b[49m\u001b[43m,\u001b[49m\u001b[43m \u001b[49m\u001b[38;5;124;43m\"\u001b[39;49m\u001b[38;5;124;43mrb\u001b[39;49m\u001b[38;5;124;43m\"\u001b[39;49m\u001b[43m)\u001b[49m\n\u001b[1;32m    110\u001b[0m     \u001b[38;5;28mself\u001b[39m\u001b[38;5;241m.\u001b[39mfilename \u001b[38;5;241m=\u001b[39m fp\n\u001b[1;32m    111\u001b[0m     \u001b[38;5;28mself\u001b[39m\u001b[38;5;241m.\u001b[39m_exclusive_fp \u001b[38;5;241m=\u001b[39m \u001b[38;5;28;01mTrue\u001b[39;00m\n",
      "\u001b[0;31mFileNotFoundError\u001b[0m: [Errno 2] No such file or directory: '/Users/malcolmphillip/Desktop/Course 44-608/608-mod7/card_images/8_of_Spades.png'"
     ]
    }
   ],
   "source": [
    "for axes in axes_list.ravel():\n",
    "    axes.get_xaxis().set_visible(False)\n",
    "    axes.get_yaxis().set_visible(False)\n",
    "    image_name = deck_of_cards.deal_card().image_name\n",
    "    img = mpimg.imread(str(path.joinpath(image_name).resolve()))\n",
    "    axes.imshow(img)"
   ]
  },
  {
   "cell_type": "code",
   "execution_count": 21,
   "id": "11fcd035-b0e3-4a03-9cce-6a331ce13264",
   "metadata": {},
   "outputs": [],
   "source": [
    "deck_of_cards.shuffle()"
   ]
  },
  {
   "cell_type": "code",
   "execution_count": 22,
   "id": "9722eac0-3569-48a3-9766-9c8ef38d7625",
   "metadata": {},
   "outputs": [],
   "source": [
    "figure, axes_list = plt.subplots(nrows=2, ncols=5)"
   ]
  },
  {
   "cell_type": "code",
   "execution_count": 23,
   "id": "be308dc3-eb1b-48f5-bdf7-14892b351efc",
   "metadata": {},
   "outputs": [
    {
     "ename": "FileNotFoundError",
     "evalue": "[Errno 2] No such file or directory: '/Users/malcolmphillip/Desktop/Course 44-608/608-mod7/card_images/8_of_Spades.png'",
     "output_type": "error",
     "traceback": [
      "\u001b[0;31m---------------------------------------------------------------------------\u001b[0m",
      "\u001b[0;31mFileNotFoundError\u001b[0m                         Traceback (most recent call last)",
      "Input \u001b[0;32mIn [23]\u001b[0m, in \u001b[0;36m<cell line: 1>\u001b[0;34m()\u001b[0m\n\u001b[1;32m      3\u001b[0m axes\u001b[38;5;241m.\u001b[39mget_yaxis()\u001b[38;5;241m.\u001b[39mset_visible(\u001b[38;5;28;01mFalse\u001b[39;00m)\n\u001b[1;32m      4\u001b[0m image_name \u001b[38;5;241m=\u001b[39m deck_of_cards\u001b[38;5;241m.\u001b[39mdeal_card()\u001b[38;5;241m.\u001b[39mimage_name\n\u001b[0;32m----> 5\u001b[0m img \u001b[38;5;241m=\u001b[39m \u001b[43mmpimg\u001b[49m\u001b[38;5;241;43m.\u001b[39;49m\u001b[43mimread\u001b[49m\u001b[43m(\u001b[49m\u001b[38;5;28;43mstr\u001b[39;49m\u001b[43m(\u001b[49m\u001b[43mpath\u001b[49m\u001b[38;5;241;43m.\u001b[39;49m\u001b[43mjoinpath\u001b[49m\u001b[43m(\u001b[49m\u001b[43mimage_name\u001b[49m\u001b[43m)\u001b[49m\u001b[38;5;241;43m.\u001b[39;49m\u001b[43mresolve\u001b[49m\u001b[43m(\u001b[49m\u001b[43m)\u001b[49m\u001b[43m)\u001b[49m\u001b[43m)\u001b[49m\n\u001b[1;32m      6\u001b[0m axes\u001b[38;5;241m.\u001b[39mimshow(img)\n",
      "File \u001b[0;32m~/opt/miniconda3/lib/python3.9/site-packages/matplotlib/image.py:1501\u001b[0m, in \u001b[0;36mimread\u001b[0;34m(fname, format)\u001b[0m\n\u001b[1;32m   1499\u001b[0m                 response \u001b[38;5;241m=\u001b[39m io\u001b[38;5;241m.\u001b[39mBytesIO(response\u001b[38;5;241m.\u001b[39mread())\n\u001b[1;32m   1500\u001b[0m             \u001b[38;5;28;01mreturn\u001b[39;00m imread(response, \u001b[38;5;28mformat\u001b[39m\u001b[38;5;241m=\u001b[39mext)\n\u001b[0;32m-> 1501\u001b[0m \u001b[38;5;28;01mwith\u001b[39;00m \u001b[43mimg_open\u001b[49m\u001b[43m(\u001b[49m\u001b[43mfname\u001b[49m\u001b[43m)\u001b[49m \u001b[38;5;28;01mas\u001b[39;00m image:\n\u001b[1;32m   1502\u001b[0m     \u001b[38;5;28;01mreturn\u001b[39;00m (_pil_png_to_float_array(image)\n\u001b[1;32m   1503\u001b[0m             \u001b[38;5;28;01mif\u001b[39;00m \u001b[38;5;28misinstance\u001b[39m(image, PIL\u001b[38;5;241m.\u001b[39mPngImagePlugin\u001b[38;5;241m.\u001b[39mPngImageFile) \u001b[38;5;28;01melse\u001b[39;00m\n\u001b[1;32m   1504\u001b[0m             pil_to_array(image))\n",
      "File \u001b[0;32m~/opt/miniconda3/lib/python3.9/site-packages/PIL/ImageFile.py:109\u001b[0m, in \u001b[0;36mImageFile.__init__\u001b[0;34m(self, fp, filename)\u001b[0m\n\u001b[1;32m    105\u001b[0m \u001b[38;5;28mself\u001b[39m\u001b[38;5;241m.\u001b[39mdecodermaxblock \u001b[38;5;241m=\u001b[39m MAXBLOCK\n\u001b[1;32m    107\u001b[0m \u001b[38;5;28;01mif\u001b[39;00m isPath(fp):\n\u001b[1;32m    108\u001b[0m     \u001b[38;5;66;03m# filename\u001b[39;00m\n\u001b[0;32m--> 109\u001b[0m     \u001b[38;5;28mself\u001b[39m\u001b[38;5;241m.\u001b[39mfp \u001b[38;5;241m=\u001b[39m \u001b[38;5;28;43mopen\u001b[39;49m\u001b[43m(\u001b[49m\u001b[43mfp\u001b[49m\u001b[43m,\u001b[49m\u001b[43m \u001b[49m\u001b[38;5;124;43m\"\u001b[39;49m\u001b[38;5;124;43mrb\u001b[39;49m\u001b[38;5;124;43m\"\u001b[39;49m\u001b[43m)\u001b[49m\n\u001b[1;32m    110\u001b[0m     \u001b[38;5;28mself\u001b[39m\u001b[38;5;241m.\u001b[39mfilename \u001b[38;5;241m=\u001b[39m fp\n\u001b[1;32m    111\u001b[0m     \u001b[38;5;28mself\u001b[39m\u001b[38;5;241m.\u001b[39m_exclusive_fp \u001b[38;5;241m=\u001b[39m \u001b[38;5;28;01mTrue\u001b[39;00m\n",
      "\u001b[0;31mFileNotFoundError\u001b[0m: [Errno 2] No such file or directory: '/Users/malcolmphillip/Desktop/Course 44-608/608-mod7/card_images/8_of_Spades.png'"
     ]
    }
   ],
   "source": [
    "for axes in axes_list.ravel():\n",
    "    axes.get_xaxis().set_visible(False)\n",
    "    axes.get_yaxis().set_visible(False)\n",
    "    image_name = deck_of_cards.deal_card().image_name\n",
    "    img = mpimg.imread(str(path.joinpath(image_name).resolve()))\n",
    "    axes.imshow(img)"
   ]
  },
  {
   "cell_type": "code",
   "execution_count": 24,
   "id": "14f12dba-0cbe-4119-9bf4-bcc8bb23348b",
   "metadata": {},
   "outputs": [],
   "source": [
    "figure.tight_layout()"
   ]
  },
  {
   "cell_type": "code",
   "execution_count": 25,
   "id": "1c06be10-42f7-4cb0-9d26-d846780f1bca",
   "metadata": {},
   "outputs": [
    {
     "name": "stdout",
     "output_type": "stream",
     "text": [
      "10.6 completed somewhat successfully by Malcolm P\n"
     ]
    }
   ],
   "source": [
    "print('10.6 completed somewhat successfully by Malcolm P')"
   ]
  },
  {
   "cell_type": "code",
   "execution_count": null,
   "id": "03c0d50b-a9cd-4454-af30-9dc4119c1e59",
   "metadata": {},
   "outputs": [],
   "source": []
  }
 ],
 "metadata": {
  "kernelspec": {
   "display_name": "Python 3",
   "language": "python",
   "name": "python3"
  },
  "language_info": {
   "codemirror_mode": {
    "name": "ipython",
    "version": 3
   },
   "file_extension": ".py",
   "mimetype": "text/x-python",
   "name": "python",
   "nbconvert_exporter": "python",
   "pygments_lexer": "ipython3",
   "version": "3.9.12"
  }
 },
 "nbformat": 4,
 "nbformat_minor": 5
}
